{
 "cells": [
  {
   "cell_type": "markdown",
   "metadata": {},
   "source": [
    "# Scrape Data via \"wbdata\""
   ]
  },
  {
   "cell_type": "code",
   "execution_count": 1,
   "metadata": {},
   "outputs": [],
   "source": [
    "import wbdata\n",
    "import pandas\n",
    "import matplotlib.pyplot as plt\n",
    "%matplotlib inline"
   ]
  },
  {
   "cell_type": "code",
   "execution_count": 120,
   "metadata": {},
   "outputs": [],
   "source": [
    "# define countries (limited to 50 for readability)\n",
    "all_countries = [i['id'] for i in wbdata.get_country(display=False)]\n",
    "countries = all_countries[:50]\n",
    "\n",
    "# define indicators\n",
    "# wbdata.get_source()                  # shows topics, topic 24 is \"Poverty and Equity\"\n",
    "# wbdata.get_indicator(source=24)      # shows indicators, I chose \"Income share held by lowest 20%\"\n",
    "indicators = {\"SI.DST.FRST.20\": \"Income share held by lowest 20%\"}\n",
    "\n",
    "# create dataframe\n",
    "df = wbdata.get_dataframe(indicators, country=countries,convert_date=True)\n",
    "df = df.dropna()"
   ]
  },
  {
   "cell_type": "code",
   "execution_count": null,
   "metadata": {},
   "outputs": [],
   "source": [
    "# Manipulate dataframe to only output most recent value\n",
    "# INCOMPLETE\n",
    "\n",
    "actual = []\n",
    "for country in countries:\n",
    "    all_data = df.loc[[country][0]]\n",
    "    latest = all_data.iloc[[0]]\n",
    "    income_share = latest.iloc[0][\"Income share held by lowest 20%\"]\n",
    "    actual.append({\"country\": country, \"income_share\" : income_share})\n",
    "pd.DataFrame(actual)\n",
    "    \n",
    "# country = df.loc[['Albania'][0]]\n",
    "# first_entry = country.iloc[[0]]\n",
    "# first_entry.iloc[0][\"Income share held by lowest 20%\"]"
   ]
  },
  {
   "cell_type": "markdown",
   "metadata": {},
   "source": [
    "# Visualize Data via \"pygal\""
   ]
  },
  {
   "cell_type": "code",
   "execution_count": 17,
   "metadata": {},
   "outputs": [],
   "source": [
    "from pygal.maps.world import World \n",
    "import random"
   ]
  },
  {
   "cell_type": "code",
   "execution_count": 119,
   "metadata": {},
   "outputs": [],
   "source": [
    "worldmap_chart = World()\n",
    "worldmap_chart.title = 'Poverty by Country'\n",
    "countries = countries # need to map country names to each other\n",
    "income_share = [random.randint(0,100) for i in range(len(countries))]\n",
    "dictionary = dict(zip(countries, income_share))\n",
    "worldmap_chart.add(\"income share\", dictionary)\n",
    "worldmap_chart.render_to_file('worldmap.svg')"
   ]
  },
  {
   "cell_type": "code",
   "execution_count": 121,
   "metadata": {},
   "outputs": [],
   "source": [
    "# data to play around with and create file\n",
    "worldmap_chart.add('In 2012', {\n",
    "  'af': 14,\n",
    "  'bd': 1,\n",
    "  'by': 3,\n",
    "  'cn': 1000,\n",
    "  'gm': 9,\n",
    "  'in': 1,\n",
    "  'ir': 314,\n",
    "  'iq': 129,\n",
    "  'jp': 7,\n",
    "  'kp': 6,\n",
    "  'pk': 1,\n",
    "  'ps': 6,\n",
    "  'sa': 79,\n",
    "  'so': 6,\n",
    "  'sd': 5,\n",
    "  'tw': 6,\n",
    "  'ae': 1,\n",
    "  'us': 43,\n",
    "  'ye': 28\n",
    "})\n",
    "worldmap_chart.render_to_file('worldmap.svg')"
   ]
  },
  {
   "cell_type": "markdown",
   "metadata": {},
   "source": [
    "# Sources and Alternatives\n",
    "\n",
    "- wbdata: http://wbdata.readthedocs.io/en/latest/wbdata.html#convenience-functions\n",
    "- pygal: http://www.pygal.org/en/stable/documentation/types/maps/pygal_maps_world.html\n",
    "\n",
    "\n",
    "- wb api: https://datahelpdesk.worldbank.org/knowledgebase/articles/898581-api-basic-call-structure\n",
    "- geoplotlib: https://github.com/andrea-cuttone/geoplotlib/wiki/User-Guide\n",
    "- flotcharts (js): http://www.flotcharts.org/\n",
    "\n",
    "\n",
    "- intro: http://blogs.worldbank.org/opendata/first-steps-in-integrating-open-data\n"
   ]
  }
 ],
 "metadata": {
  "kernelspec": {
   "display_name": "Python 3",
   "language": "python",
   "name": "python3"
  },
  "language_info": {
   "codemirror_mode": {
    "name": "ipython",
    "version": 3
   },
   "file_extension": ".py",
   "mimetype": "text/x-python",
   "name": "python",
   "nbconvert_exporter": "python",
   "pygments_lexer": "ipython3",
   "version": "3.6.5"
  }
 },
 "nbformat": 4,
 "nbformat_minor": 2
}
